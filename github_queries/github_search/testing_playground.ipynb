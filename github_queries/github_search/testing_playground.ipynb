{
 "cells": [
  {
   "cell_type": "code",
   "execution_count": 36,
   "metadata": {},
   "outputs": [
    {
     "name": "stdout",
     "output_type": "stream",
     "text": [
      "{'resources': {'core': {'limit': 5000, 'used': 1813, 'remaining': 3187, 'reset': 1744810983}, 'search': {'limit': 30, 'used': 0, 'remaining': 30, 'reset': 1744808357}, 'graphql': {'limit': 5000, 'used': 0, 'remaining': 5000, 'reset': 1744811897}, 'integration_manifest': {'limit': 5000, 'used': 0, 'remaining': 5000, 'reset': 1744811897}, 'source_import': {'limit': 100, 'used': 0, 'remaining': 100, 'reset': 1744808357}, 'code_scanning_upload': {'limit': 1000, 'used': 0, 'remaining': 1000, 'reset': 1744811897}, 'code_scanning_autofix': {'limit': 10, 'used': 0, 'remaining': 10, 'reset': 1744808357}, 'actions_runner_registration': {'limit': 10000, 'used': 0, 'remaining': 10000, 'reset': 1744811897}, 'scim': {'limit': 15000, 'used': 0, 'remaining': 15000, 'reset': 1744811897}, 'dependency_snapshots': {'limit': 100, 'used': 0, 'remaining': 100, 'reset': 1744808357}, 'audit_log': {'limit': 1750, 'used': 0, 'remaining': 1750, 'reset': 1744811897}, 'audit_log_streaming': {'limit': 15, 'used': 0, 'remaining': 15, 'reset': 1744811897}, 'code_search': {'limit': 10, 'used': 0, 'remaining': 10, 'reset': 1744808357}}, 'rate': {'limit': 5000, 'used': 1813, 'remaining': 3187, 'reset': 1744810983}}\n",
      "General API requests in the past hour: 1813\n",
      "General Remaining: 3187 out of 5000\n"
     ]
    }
   ],
   "source": [
    "import requests\n",
    "import os\n",
    "from dotenv import load_dotenv\n",
    "from openai import OpenAI\n",
    "import re\n",
    "\n",
    "\n",
    "# Load environment variables from .env file\n",
    "load_dotenv()\n",
    "\n",
    "\n",
    "GITHUB_TOKEN = os.getenv('GITHUB_TOKEN')\n",
    "headers = {\"Authorization\": f\"token {GITHUB_TOKEN}\"}\n",
    "\n",
    "response = requests.get(\"https://api.github.com/rate_limit\", headers=headers)\n",
    "\n",
    "if response.status_code == 200:\n",
    "    data = response.json()\n",
    "    print(data)\n",
    "    \n",
    "    # Check general API limit\n",
    "    general_used = data[\"rate\"][\"limit\"] - data[\"rate\"][\"remaining\"]\n",
    "    print(f\"General API requests in the past hour: {general_used}\")\n",
    "    print(f\"General Remaining: {data['rate']['remaining']} out of {data['rate']['limit']}\")\n",
    "\n",
    "\n",
    "else:\n",
    "    print(f\"Failed to fetch rate limit: {response.status_code} - {response.text}\")"
   ]
  },
  {
   "cell_type": "code",
   "execution_count": 3,
   "metadata": {},
   "outputs": [
    {
     "name": "stdout",
     "output_type": "stream",
     "text": [
      "GPT says: As an artificial intelligence, I don't have feelings, but I'm here and ready to assist you. How can I help you today?\n"
     ]
    }
   ],
   "source": [
    "from openai import OpenAI\n",
    "from dotenv import load_dotenv\n",
    "import os\n",
    "\n",
    "# Load the .env file\n",
    "load_dotenv()\n",
    "\n",
    "# Retrieve the API key\n",
    "api_key = os.getenv(\"OPENAI_API_KEY\")\n",
    "\n",
    "# Initialize the OpenAI client\n",
    "client = OpenAI(api_key=api_key)\n",
    "\n",
    "# Send a message to the chat model\n",
    "response = client.chat.completions.create(\n",
    "    model=\"gpt-4\",  # or \"gpt-4\" if you have access\n",
    "    messages=[\n",
    "        {\"role\": \"user\", \"content\": \"How are you doing?\"}\n",
    "    ]\n",
    ")\n",
    "\n",
    "# Extract the reply\n",
    "reply = response.choices[0].message.content\n",
    "print(\"GPT says:\", reply)"
   ]
  },
  {
   "cell_type": "code",
   "execution_count": null,
   "metadata": {},
   "outputs": [],
   "source": []
  }
 ],
 "metadata": {
  "kernelspec": {
   "display_name": "Python 3",
   "language": "python",
   "name": "python3"
  },
  "language_info": {
   "codemirror_mode": {
    "name": "ipython",
    "version": 3
   },
   "file_extension": ".py",
   "mimetype": "text/x-python",
   "name": "python",
   "nbconvert_exporter": "python",
   "pygments_lexer": "ipython3",
   "version": "3.8.10"
  }
 },
 "nbformat": 4,
 "nbformat_minor": 2
}
